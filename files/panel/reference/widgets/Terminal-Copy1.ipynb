{
 "cells": [
  {
   "cell_type": "code",
   "execution_count": null,
   "metadata": {},
   "outputs": [],
   "source": [
    "import piplite\n",
    "\n",
    "await piplite.install(['bokeh', 'jupyter_bokeh', 'panel==0.13.0a45'])"
   ]
  },
  {
   "cell_type": "code",
   "execution_count": null,
   "metadata": {},
   "outputs": [],
   "source": [
    "import sys\n",
    "import uuid\n",
    "import logging\n",
    "import panel as pn\n",
    "\n",
    "pn.extension('terminal')"
   ]
  },
  {
   "cell_type": "markdown",
   "metadata": {},
   "source": [
    "The ``Terminal`` provides a way to display outputs or logs from running processes as well as an interactive terminal based on for example Bash, Python or IPython. The Terminal is based on [Xterm.js](https://xtermjs.org/) which enables\n",
    "\n",
    "- Terminal apps that just work: Xterm.js works with most terminal apps such as bash, vim and tmux, this includes support for curses-based apps and mouse event support\n",
    "- Performance: Xterm.js is really fast, it even includes a GPU-accelerated renderer\n",
    "- Rich unicode support: Supports CJK, emojis and IMEs\n",
    "\n",
    "[![Xterm.js](https://raw.githubusercontent.com/xtermjs/xterm.js/master/logo-full.png)](https://xtermjs.org/)\n",
    "\n",
    "### Terminal Widget\n",
    "\n",
    "#### Parameters:\n",
    "\n",
    "For layout and styling related parameters see the [customization user guide](../../user_guide/Customization.ipynb).\n",
    "\n",
    "- **``clear``** (action): Clears the Terminal.\n",
    "- **``options``** (dict) Initial Options for the Terminal Constructor. cf. https://xtermjs.org/docs/api/terminal/interfaces/iterminaloptions/\n",
    "- **``output``** (str): System *output* written to the Terminal.\n",
    "- **``value``** (str): User *input* received from the Terminal.\n",
    "- **``write_to_console``** (boolean): If True output is additionally written to the server console. Default value is False.\n",
    "\n",
    "#### Methods\n",
    "\n",
    "* **``write``**: Writes the specified string object to the Terminal.\n",
    "\n",
    "### Terminal Subprocess\n",
    "\n",
    "The `Terminal.subprocess` property makes it easy for you to run subprocesses like `ls`, `ls -l`, `bash`, `python` and `ipython` in the terminal. \n",
    "\n",
    "#### Parameters\n",
    "\n",
    "- **``args``** (str, list):  The arguments used to run the subprocess. This may be a string or a list. The string cannot contain spaces. See [subprocess.run](https://docs.python.org/3/library/subprocess.html) for more details.\n",
    "- **``kwargs``** (dict): Any other arguments to run the subprocess. See [subprocess.run](https://docs.python.org/3/library/subprocess.html) for more details.\n",
    "- **``running``** (boolean, readonly): Whether or not the subprocess is running. Defaults to False.\n",
    "- **``run``** (action): Executes `subprocess.run` in a child process using the args and kwargs parameters provided as arguments or as parameter values on the instance. The child process is running in a *pseudo terminal* ([pty](https://docs.python.org/3/library/pty.html)) which is then connected to the Terminal.\n",
    "- **``kill``** (action): Kills the subprocess if it is running.\n",
    "\n",
    "___"
   ]
  },
  {
   "cell_type": "code",
   "execution_count": null,
   "metadata": {},
   "outputs": [],
   "source": [
    "terminal = pn.widgets.Terminal(\n",
    "    \"Welcome to the Panel Terminal!\\nI'm based on xterm.js\\n\\n\",\n",
    "    options={\"cursorBlink\": True},\n",
    "    sizing_mode='stretch_both', min_height=300\n",
    ")\n",
    "\n",
    "terminal"
   ]
  },
  {
   "cell_type": "markdown",
   "metadata": {},
   "source": [
    "#### Writing strings to the terminal"
   ]
  },
  {
   "cell_type": "code",
   "execution_count": null,
   "metadata": {},
   "outputs": [],
   "source": [
    "terminal.write(\"This is written directly to the terminal.\\n\")\n",
    "terminal.write(\"Danish Characters: æøåÆØÅ\\n\")\n",
    "terminal.write(\"Emoji: Python 🐍  Panel ❤️ 😊 \\n\")\n",
    "terminal.write(\"Links: https://panel.holoviz.org\\n\")"
   ]
  },
  {
   "cell_type": "markdown",
   "metadata": {},
   "source": [
    "#### Writing stdout to the terminal"
   ]
  },
  {
   "cell_type": "code",
   "execution_count": null,
   "metadata": {},
   "outputs": [],
   "source": [
    "sys.stdout.flush()"
   ]
  },
  {
   "cell_type": "code",
   "execution_count": null,
   "metadata": {},
   "outputs": [],
   "source": [
    "print(\"This print statement is redirected from stdout to the Panel Terminal\", file=terminal)\n",
    "\n",
    "#sys.stdout = sys.__stdout__\n",
    "#print(\"This print statement is again redirected to the server console\")"
   ]
  },
  {
   "cell_type": "markdown",
   "metadata": {},
   "source": [
    "#### Logging to the terminal"
   ]
  }
 ],
 "metadata": {
  "language_info": {
   "name": "python",
   "pygments_lexer": "ipython3"
  }
 },
 "nbformat": 4,
 "nbformat_minor": 4
}