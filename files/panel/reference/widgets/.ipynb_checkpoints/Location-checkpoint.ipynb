{
 "cells": [
  {
   "cell_type": "code",
   "execution_count": null,
   "metadata": {},
   "outputs": [],
   "source": [
    "import panel as pn\n",
    "from panel.models import Location \n",
    "pn.extension()"
   ]
  },
  {
   "cell_type": "markdown",
   "metadata": {},
   "source": [
    "The ``Location`` widget allows getting and setting the parts of the url (``href``) of the browser.\n",
    "\n",
    "The ``Location`` widgets enables implementing\n",
    "\n",
    "- Navigation between pages via ``pathname``\n",
    "- Sharing (parts of) the page state in the url as ``search`` parameters for bookmarking and sharing.\n",
    "- Navigating to subsections of the page via the ``hash_`` parameter.\n",
    "\n",
    "#### Parameters:\n",
    "\n",
    "For layout and styling related parameters see the [customization user guide](../../user_guide/Customization.ipynb).\n",
    "\n",
    "##### Core\n",
    "\n",
    "* **``pathname``** (string): pathname part of the url, e.g. '/user_guide/Interact.html'.\n",
    "* **``search``** (string): search part of the url e.g. '?color=blue'.\n",
    "* **``hash_``** (string): hash part of the url e.g. '#interact'.\n",
    "* **``reload``** (bool): Whether or not to reload the page when the url is updated.\n",
    "    - For independent apps this should be set to True. \n",
    "    - For integrated or single page apps this should be set to False.\n",
    "\n",
    "##### Readonly\n",
    "\n",
    "* **``href``** (string): The full url, e.g. 'https://panel.holoviz.org/user_guide/Interact.html:80?color=blue#interact'.\n",
    "* **``protocol``** (string): protocol part of the url, e.g. 'http:' or 'https:'\n",
    "* **``port``** (string): port number, e.g. '80'\n",
    "\n",
    "___\n",
    "\n",
    "The Location widget does not display anything by it self. But it needs to be added to a layout in order to work."
   ]
  },
  {
   "cell_type": "code",
   "execution_count": null,
   "metadata": {},
   "outputs": [],
   "source": [
    "location = pn.widgets.Location(reload=False)\n",
    "parameters = [\n",
    "    \"href\",\n",
    "    \"hostname\",\n",
    "    \"pathname\",\n",
    "    \"protocol\",\n",
    "    \"port\",\n",
    "    \"search\",\n",
    "    \"hash_\",\n",
    "    \"reload\",\n",
    "]\n",
    "pn.Column(location, pn.Param(location, parameters=parameters))"
   ]
  },
  {
   "cell_type": "markdown",
   "metadata": {},
   "source": [
    "## Using the Location Widget in an App with Multiple Pages"
   ]
  },
  {
   "cell_type": "code",
   "execution_count": null,
   "metadata": {},
   "outputs": [],
   "source": [
    "import param\n",
    "from urllib import parse\n",
    "\n",
    "class Page(param.Parameterized):\n",
    "    title = param.String(\"new page\")\n",
    "    value = param.Number(default=0.0, bounds=None, step=1)\n",
    "\n",
    "page1 = Page(title=\"#### Page 1\", name=\"page1\")\n",
    "page2 = Page(title=\"#### Page 2\", name=\"page2\")\n",
    "pages = [page1, page2]\n",
    "\n",
    "location = pn.widgets.Location(reload=False)\n",
    "\n",
    "class App(param.Parameterized):\n",
    "    page = param.ObjectSelector(page1, objects=pages)\n",
    "    location = param.Parameter(location)\n",
    "    \n",
    "    def __init__(self, **params):\n",
    "        super().__init__(**params)\n",
    "        \n",
    "        self.view = pn.Column(\n",
    "            self.location, \n",
    "            \"#### Menu\", \n",
    "            pn.Param(\n",
    "                self, \n",
    "                parameters=[\"page\"], \n",
    "                expand_button=False, \n",
    "                show_name=False), \n",
    "                self._selected_page\n",
    "        )\n",
    "        \n",
    "    @param.depends(\"page\")\n",
    "    def _selected_page(self):\n",
    "        return pn.Column(self.page.title, self.page.param.value)\n",
    "    \n",
    "    @param.depends(\"page\", watch=True)\n",
    "    def _set_pathname(self):\n",
    "        location.pathname = \"/\" + self.page.name\n",
    "        \n",
    "    @param.depends(\"page\", \"page.value\", watch=True)\n",
    "    def _set_search(self):\n",
    "        location.search = \"?value=\" + self.page.value\n",
    "        \n",
    "    @param.depends(\"location\", \"location.search\", watch=True)\n",
    "    def _set_page_value(self):\n",
    "        if search:\n",
    "            search=search[1:]\n",
    "            search_dict=dict(parse.parse_qsl(search))\n",
    "        else:\n",
    "            search_dict={}\n",
    "\n",
    "        if \"value\" in search_dict:\n",
    "            self.page.value = int(search_dict[\"value\"])\n",
    "            \n",
    "app = App()       \n",
    "app.view"
   ]
  }
 ],
 "metadata": {
  "kernelspec": {
   "display_name": "Python 3",
   "language": "python",
   "name": "python3"
  },
  "language_info": {
   "codemirror_mode": {
    "name": "ipython",
    "version": 3
   },
   "file_extension": ".py",
   "mimetype": "text/x-python",
   "name": "python",
   "nbconvert_exporter": "python",
   "pygments_lexer": "ipython3",
   "version": "3.7.5"
  }
 },
 "nbformat": 4,
 "nbformat_minor": 4
}
