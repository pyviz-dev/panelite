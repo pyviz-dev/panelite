{
 "cells": [
  {
   "cell_type": "code",
   "execution_count": null,
   "metadata": {},
   "outputs": [],
   "source": [
    "import panel as pn\n",
    "pn.extension()"
   ]
  },
  {
   "cell_type": "markdown",
   "metadata": {},
   "source": [
    "The ``GridBox`` is a list-like layout (unlike ``GridSpec``) that wraps objects into a grid according to the specified ``nrows`` and ``ncols`` paraameters. It has a list-like API with methods to ``append``, ``extend``, ``clear``, ``insert``, ``pop``, ``remove`` and ``__setitem__``, which make it possible to interactively update and modify the layout.\n",
    "\n",
    "#### Parameters:\n",
    "\n",
    "For layout and styling related parameters see the [customization user guide](../../user_guide/Customization.ipynb).\n",
    "\n",
    "\n",
    "* **``ncols``** (int): Number of columns after which to wrap\n",
    "* **``nrows``** (int): Number of rows after which to wrap\n",
    "* **``objects``** (list): The list of objects to display in the WidgetBox. Should not generally be modified directly except when replaced in its entirety.\n",
    "\n",
    "___"
   ]
  },
  {
   "cell_type": "markdown",
   "metadata": {},
   "source": [
    "A ``GridBox`` layout can either be instantiated as empty and populated after the fact or using a list of objects provided as positional arguments. If the objects are not already panel components they will each be converted to one using the ``pn.panel`` conversion method. Depending on the number of items and the specified ``ncols``/``nrows`` the layout will reflow the content:"
   ]
  },
  {
   "cell_type": "code",
   "execution_count": null,
   "metadata": {},
   "outputs": [],
   "source": [
    "box.nrows=3"
   ]
  },
  {
   "cell_type": "code",
   "execution_count": null,
   "metadata": {},
   "outputs": [],
   "source": [
    "import random\n",
    "\n",
    "rcolor = lambda: \"#%06x\" % random.randint(0, 0xFFFFFF)\n",
    "\n",
    "box = pn.GridBox(*[pn.pane.HTML(background=rcolor(), width=50, height=50) for i in range(23)], ncols=6)\n",
    "box"
   ]
  },
  {
   "cell_type": "code",
   "execution_count": null,
   "metadata": {},
   "outputs": [],
   "source": [
    "from bokeh.layouts import grid\n",
    "from collections import namedtuple\n",
    "\n",
    "row = namedtuple(\"row\", [\"children\"])\n",
    "col = namedtuple(\"col\", [\"children\"])\n",
    "\n",
    "def flatten(layout, ncols=None, consistent=False):\n",
    "    Item = namedtuple(\"Item\", [\"layout\", \"r0\", \"c0\", \"r1\", \"c1\"])\n",
    "    Grid = namedtuple(\"Grid\", [\"nrows\", \"ncols\", \"items\"])\n",
    "\n",
    "    def gcd(a, b):\n",
    "        a, b = abs(a), abs(b)\n",
    "        while b != 0:\n",
    "            a, b = b, a % b\n",
    "        return a\n",
    "\n",
    "    def lcm(a, *rest):\n",
    "        for b in rest:\n",
    "            a = (a*b) // gcd(a, b)\n",
    "        return a\n",
    "\n",
    "    nonempty = lambda child: child.nrows != 0 and child.ncols != 0\n",
    "\n",
    "    def _flatten(layout, ncols=None):\n",
    "        if isinstance(layout, row):\n",
    "            children = list(filter(nonempty, map(_flatten, layout.children)))\n",
    "            if not children:\n",
    "                return Grid(0, 0, [])\n",
    "\n",
    "            nrows = lcm(*[ child.nrows for child in children ])\n",
    "            if not ncols:\n",
    "                ncols = sum([ child.ncols for child in children ])\n",
    "            \n",
    "            items = []\n",
    "            offset = 0\n",
    "            for child in children:\n",
    "                factor = nrows//child.nrows\n",
    "\n",
    "                for (layout, r0, c0, r1, c1) in child.items:\n",
    "                    items.append((layout, factor*r0, c0 + offset, factor*r1, c1 + offset))\n",
    "\n",
    "                offset += child.ncols\n",
    "\n",
    "            return Grid(nrows, ncols, items)\n",
    "        elif isinstance(layout, col):\n",
    "            children = list(filter(nonempty, map(_flatten, layout.children)))\n",
    "            if not children:\n",
    "                return Grid(0, 0, [])\n",
    "\n",
    "            nrows = sum([ child.nrows for child in children ])\n",
    "            ncols = lcm(*[ child.ncols for child in children ])\n",
    "\n",
    "            items = []\n",
    "            offset = 0\n",
    "            for child in children:\n",
    "                factor = ncols//child.ncols\n",
    "\n",
    "                for (layout, r0, c0, r1, c1) in child.items:\n",
    "                    items.append((layout, r0 + offset, factor*c0, r1 + offset, factor*c1))\n",
    "\n",
    "                offset += child.nrows\n",
    "\n",
    "            return Grid(nrows, ncols, items)\n",
    "        else:\n",
    "            return Grid(1, 1, [Item(layout, 0, 0, 1, 1)])\n",
    "\n",
    "    grid = _flatten(layout, ncols)\n",
    "\n",
    "    children = []\n",
    "    for (layout, r0, c0, r1, c1) in grid.items:\n",
    "        if layout is not None:\n",
    "            children.append((layout, r0, c0, r1 - r0, c1 - c0))\n",
    "    return children\n",
    "\n",
    "\n",
    "def get_children(children, nrows=None, ncols=3):\n",
    "    if nrows is not None or ncols is not None:\n",
    "        N = len(children)\n",
    "        if ncols is None:\n",
    "            ncols = math.ceil(N/nrows)\n",
    "        layout = col([ row(children[i:i+ncols]) for i in range(0, N, ncols) ])\n",
    "    else:\n",
    "        def traverse(children, level=0):\n",
    "            if isinstance(children, list):\n",
    "                container = col if level % 2 == 0 else row\n",
    "                return container([ traverse(child, level+1) for child in children ])\n",
    "            else:\n",
    "                return children\n",
    "\n",
    "        layout = traverse(children)\n",
    "    return layout\n",
    "\n",
    "flatten(get_children(box.objects))"
   ]
  },
  {
   "cell_type": "code",
   "execution_count": null,
   "metadata": {},
   "outputs": [],
   "source": [
    "grid([o.get_root() for o in box.objects], ncols=3).children"
   ]
  },
  {
   "cell_type": "markdown",
   "metadata": {},
   "source": [
    "In general it is preferred to modify layouts only through the provided methods and avoid modifying the ``objects`` parameter directly. The one exception is when replacing the list of ``objects`` entirely, otherwise it is recommended to use the methods on the ``WidgetBox`` itself to ensure that the rendered views of the ``GridBox`` are rerendered in response to the change. As a simple example we might add an additional widget to the ``box`` using the append method:"
   ]
  },
  {
   "cell_type": "code",
   "execution_count": null,
   "metadata": {},
   "outputs": [],
   "source": [
    "color = pn.pane.HTML(background=rcolor(), width=50, height=50)\n",
    "box[5] = color"
   ]
  },
  {
   "cell_type": "markdown",
   "metadata": {},
   "source": [
    "In addition to modifying the ``GridBox`` through methods and ``__setitem__`` syntax we can also dynamically reflow the contents by changing the ``ncols`` or ``nrows`` parameters:"
   ]
  },
  {
   "cell_type": "code",
   "execution_count": null,
   "metadata": {},
   "outputs": [],
   "source": [
    "box.ncols = 4"
   ]
  },
  {
   "cell_type": "markdown",
   "metadata": {},
   "source": [
    "To see the effect in a statically rendered page, we will display the box a second time:"
   ]
  },
  {
   "cell_type": "code",
   "execution_count": null,
   "metadata": {},
   "outputs": [],
   "source": [
    "box"
   ]
  },
  {
   "cell_type": "markdown",
   "metadata": {},
   "source": [
    "In general a ``GridBox`` does not have to be given a ``width``, ``height`` or ``sizing_mode``, allowing it to adapt to the size of its contents."
   ]
  }
 ],
 "metadata": {
  "kernelspec": {
   "display_name": "Python 3",
   "language": "python",
   "name": "python3"
  },
  "language_info": {
   "codemirror_mode": {
    "name": "ipython",
    "version": 3
   },
   "file_extension": ".py",
   "mimetype": "text/x-python",
   "name": "python",
   "nbconvert_exporter": "python",
   "pygments_lexer": "ipython3",
   "version": "3.7.4"
  }
 },
 "nbformat": 4,
 "nbformat_minor": 4
}
