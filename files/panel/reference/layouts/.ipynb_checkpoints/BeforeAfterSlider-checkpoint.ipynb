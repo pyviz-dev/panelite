{
 "cells": [
  {
   "cell_type": "code",
   "execution_count": null,
   "id": "ed7c1d01-d655-4878-a27d-c6d0e330097b",
   "metadata": {},
   "outputs": [],
   "source": [
    "import panel as pn\n",
    "\n",
    "import pandas as pd\n",
    "import hvplot.pandas\n",
    "\n",
    "pn.extension(template='fast')"
   ]
  },
  {
   "cell_type": "markdown",
   "id": "ea1bc3ca-f83c-48e5-8046-7a4341ed835d",
   "metadata": {},
   "source": [
    "The `BeforeAfterSlider` layout enables you to quickly compare two panels layed out on top of each other with a part of the *before* panel shown on one side of a slider and a part of the *after* panel shown on the other side.\n",
    "\n",
    "#### Parameters:\n",
    "\n",
    "* **``value``** (int): The percentage of the *after* panel shown. Default is 50.\n",
    "* **``before``**: The *before* panel.\n",
    "* **``after``**: The *after* panel.\n",
    "* **``slider_width``** (int): The width of the slider in pixels. Default is 12.\n",
    "* **``slider_color``** (str): The color of the slider. Default is 'silver'."
   ]
  },
  {
   "cell_type": "code",
   "execution_count": null,
   "id": "e570221d-6a68-4d15-ad8f-0fe316df9abf",
   "metadata": {},
   "outputs": [],
   "source": [
    "data = pd.DataFrame({\"y\": range(10)})\n",
    "\n",
    "before = data.hvplot(responsive=True, min_height=500).opts(color=\"green\", line_width=6)\n",
    "after = data.hvplot(responsive=True).opts(color=\"red\", line_width=6)\n",
    "\n",
    "before_after = pn.layout.BeforeAfterSlider(before, after, value=50, sizing_mode='stretch_width')\n",
    "\n",
    "before_after.servable()"
   ]
  },
  {
   "cell_type": "markdown",
   "id": "d29a656a-55f7-4b9c-97e1-5794b66c1151",
   "metadata": {},
   "source": [
    "### Controls"
   ]
  },
  {
   "cell_type": "code",
   "execution_count": null,
   "id": "c228585d-18c4-4e50-adac-8c28a952a99a",
   "metadata": {},
   "outputs": [],
   "source": [
    "controls = before_after.controls(jslink=True).servable(area='sidebar')\n",
    "\n",
    "pn.Row(controls, before_after)"
   ]
  },
  {
   "cell_type": "markdown",
   "id": "b1c4d8bf-4c58-408b-9f8e-5813dd2e3013",
   "metadata": {},
   "source": []
  }
 ],
 "metadata": {
  "kernelspec": {
   "display_name": "Python 3 (ipykernel)",
   "language": "python",
   "name": "python3"
  },
  "language_info": {
   "codemirror_mode": {
    "name": "ipython",
    "version": 3
   },
   "file_extension": ".py",
   "mimetype": "text/x-python",
   "name": "python",
   "nbconvert_exporter": "python",
   "pygments_lexer": "ipython3",
   "version": "3.8.8"
  },
  "widgets": {
   "application/vnd.jupyter.widget-state+json": {
    "state": {},
    "version_major": 2,
    "version_minor": 0
   }
  }
 },
 "nbformat": 4,
 "nbformat_minor": 5
}
