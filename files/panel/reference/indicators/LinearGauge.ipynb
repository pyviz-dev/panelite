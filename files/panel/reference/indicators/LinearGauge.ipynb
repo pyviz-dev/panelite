{
 "cells": [
  {
   "cell_type": "code",
   "execution_count": null,
   "metadata": {},
   "outputs": [],
   "source": [
    "import piplite\n",
    "\n",
    "await piplite.install(['bokeh', 'jupyter_bokeh', 'panel==0.13.0a45'])"
   ]
  },
  {
   "cell_type": "code",
   "execution_count": null,
   "metadata": {},
   "outputs": [],
   "source": [
    "import panel as pn\n",
    "\n",
    "pn.extension()"
   ]
  },
  {
   "cell_type": "markdown",
   "metadata": {},
   "source": [
    "The ``LinearGauge`` is a value indicator providing a visual representation of a value in a certain range as a simple linear gauge.\n",
    "\n",
    "#### Parameters:\n",
    "\n",
    "For layout and styling related parameters see the [customization user guide](../../user_guide/Customization.ipynb).\n",
    "\n",
    "* **``bounds``** (tuple, default=(0, 100)): The upper and lower bound of the dial.\n",
    "* **``colors``** (list): Color thresholds for the Gauge, specified as a list of tuples of the fractional threshold and the color to switch to.\n",
    "* **``default_color``** (str, default='lightblue'): Color to use if no color threshold are supplied to the `color` parameter\n",
    "* **``end_angle``** (float or int, default=-45) Angle at which the gauge ends.\n",
    "* **``format``** str(str, default='{value}%'): Formatting string for the value indicator.\n",
    "* **``nan_format``** str(str, default='-'): How to format nan values.\n",
    "* **``needle_color``** (str, default='black): Color of the needle.\n",
    "* **``needle_width``** (float, default=0.1): Radial width of needle in radians.\n",
    "* **``start_angle``** (float or int, default=225): Angle at which the gauge starts.\n",
    "* **``tick_size``** (int): Font size of the tick labels.\n",
    "* **``title_size``** (int): Font size of the title.\n",
    "* **``unfilled_color``** (str, default='whitesmoke'): Color of the unfilled region of the Dial\n",
    "* **``value``** (float or int, default=25): Value to indicate on the dial a value within the declared bounds.\n",
    "* **``value_size``** (str): Font size of value label.\n",
    "\n",
    "___"
   ]
  },
  {
   "cell_type": "markdown",
   "metadata": {},
   "source": [
    "The simplest form of a `LinearGauge` just requires setting a `value` which must be within the `bounds`. The default formatter and bounds assume you are providing a percentage:"
   ]
  },
  {
   "cell_type": "code",
   "execution_count": null,
   "metadata": {},
   "outputs": [],
   "source": [
    "pn.indicators.LinearGauge(name='Failure Rate', value=34.1, bounds=(0, 180), value_size='10pt', colors=['red', 'gold', 'green'])"
   ]
  },
  {
   "cell_type": "markdown",
   "metadata": {},
   "source": [
    "If we want to display some other value such as the revolutions per minute of an engine we can set a different `bounds` value and override the `format`. Additionally we may also provide a different set of colors defining the threshold points at which the color should change as a fraction of the provided bounds. The `colors` accepts a list of tuples defining the fractions and the color:"
   ]
  },
  {
   "cell_type": "code",
   "execution_count": null,
   "metadata": {},
   "outputs": [],
   "source": [
    "pn.indicators.LinearGauge(\n",
    "    name='Engine', value=2500, bounds=(0, 3000), format='{value} rpm',\n",
    "    colors=['green', 'gold', 'red'], horizontal\n",
    ")"
   ]
  },
  {
   "cell_type": "code",
   "execution_count": null,
   "metadata": {},
   "outputs": [],
   "source": []
  }
 ],
 "metadata": {
  "kernelspec": {
   "display_name": "Python 3 (ipykernel)",
   "language": "python",
   "name": "python3"
  },
  "language_info": {
   "codemirror_mode": {
    "name": "ipython",
    "version": 3
   },
   "file_extension": ".py",
   "mimetype": "text/x-python",
   "name": "python",
   "nbconvert_exporter": "python",
   "pygments_lexer": "ipython3",
   "version": "3.8.8"
  },
  "widgets": {
   "application/vnd.jupyter.widget-state+json": {
    "state": {},
    "version_major": 2,
    "version_minor": 0
   }
  }
 },
 "nbformat": 4,
 "nbformat_minor": 4
}