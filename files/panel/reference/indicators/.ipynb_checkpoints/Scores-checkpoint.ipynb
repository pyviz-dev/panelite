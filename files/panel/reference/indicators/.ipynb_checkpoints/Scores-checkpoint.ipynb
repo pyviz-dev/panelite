{
 "cells": [
  {
   "cell_type": "code",
   "execution_count": null,
   "metadata": {},
   "outputs": [],
   "source": [
    "import panel as pn\n",
    "\n",
    "pn.extension()"
   ]
  },
  {
   "cell_type": "markdown",
   "metadata": {},
   "source": [
    "The ``Scores`` indicator provides a visual representation of a dictionary of labels (key) and their scores (value). For example the result of a machine learning classification.\n",
    "\n",
    "#### Parameters:\n",
    "\n",
    "For layout and styling related parameters see the [customization user guide](../../user_guide/Customization.ipynb).\n",
    "\n",
    "* **``value``** (`dict`): A dictionary of labels (key) and their scores (value). For example  `{\"egyptian\": 0.22, \"tabby cat\": 0.18, \"tiger cat\": 0.13, \"lynx\": 0.09, \"Siamese cat\": 0.04}`.\n",
    "* **``top``** (`int`): The maximum number of labels to plots. Default is 5.\n",
    "* **``color``** (`str`): The color of the bars. Default is the same as the Fast Templates accent_base_color.\n",
    "* **``theme``** (`str`): One of `default` or `dark`. Automatically set if used together with the Fast Templates."
   ]
  },
  {
   "cell_type": "code",
   "execution_count": null,
   "metadata": {},
   "outputs": [],
   "source": [
    "ACCENT_COLOR = \"#926AA6\"\n",
    "\n",
    "labels = {\n",
    "    \"egyptian\": 0.22,\n",
    "    \"tabby cat\": 0.18,\n",
    "    \"tiger cat\": 0.13,\n",
    "    \"lynx\": 0.09,\n",
    "    \"Siamese cat\": 0.04,\n",
    "    \"aaa\": 0.01,\n",
    "    \"bbb\": 0.01,\n",
    "    \"ccc\": 0.01,\n",
    "    \"ddd\": 0.01,\n",
    "    \"eee\": 0.01\n",
    "}\n",
    "\n",
    "scores = pn.indicators.Scores(\n",
    "    value=labels, \n",
    "    color=ACCENT_COLOR, \n",
    "    top=3, \n",
    "    height=300, \n",
    "    sizing_mode=\"stretch_width\", \n",
    "    name=\"Labels from classification\"\n",
    ")\n",
    "\n",
    "scores"
   ]
  },
  {
   "cell_type": "markdown",
   "metadata": {},
   "source": [
    "## Controls\n",
    "\n",
    "To get a feeling for the different parameters of the `Scores` indicator we will display a set of controls:"
   ]
  },
  {
   "cell_type": "code",
   "execution_count": null,
   "metadata": {},
   "outputs": [],
   "source": [
    "scores = scores.clone().servable(title='Scores')\n",
    "\n",
    "controls = scores.controls().servable(title='Scores', area='sidebar')\n",
    "\n",
    "pn.Row(controls, scores)"
   ]
  },
  {
   "cell_type": "code",
   "execution_count": null,
   "metadata": {},
   "outputs": [],
   "source": []
  }
 ],
 "metadata": {
  "kernelspec": {
   "display_name": "Python 3 (ipykernel)",
   "language": "python",
   "name": "python3"
  },
  "language_info": {
   "codemirror_mode": {
    "name": "ipython",
    "version": 3
   },
   "file_extension": ".py",
   "mimetype": "text/x-python",
   "name": "python",
   "nbconvert_exporter": "python",
   "pygments_lexer": "ipython3",
   "version": "3.8.8"
  },
  "widgets": {
   "application/vnd.jupyter.widget-state+json": {
    "state": {},
    "version_major": 2,
    "version_minor": 0
   }
  }
 },
 "nbformat": 4,
 "nbformat_minor": 4
}
