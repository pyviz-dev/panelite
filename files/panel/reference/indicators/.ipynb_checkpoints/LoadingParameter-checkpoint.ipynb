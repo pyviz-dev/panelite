{
 "cells": [
  {
   "cell_type": "markdown",
   "id": "first-manual",
   "metadata": {},
   "source": [
    "## Panel Loading Parameter\n",
    "\n",
    "Every pane, widget and layout provides the `loading` parameter. When set to `True` a spinner will overlay the panel and indicate that the panel is currently loading. When you set `loading` to false the spinner is removed.\n",
    "\n",
    "For example if you have a `button` you can set `button.loading=True` or `button.loading=False`\n",
    "\n",
    "![LoadingParameter](../../assets/LoadingParameter.gif)"
   ]
  },
  {
   "cell_type": "markdown",
   "id": "neural-going",
   "metadata": {},
   "source": [
    "Let's import the dependencies"
   ]
  },
  {
   "cell_type": "code",
   "execution_count": null,
   "id": "local-alloy",
   "metadata": {},
   "outputs": [],
   "source": [
    "import panel as pn\n",
    "import holoviews as hv\n",
    "import numpy as np\n",
    "import time\n",
    "\n",
    "pn.config.sizing_mode=\"stretch_width\"\n",
    "pn.extension()\n",
    "hv.extension(\"bokeh\")"
   ]
  },
  {
   "cell_type": "markdown",
   "id": "according-diana",
   "metadata": {},
   "source": [
    "Let's create a function that creates a random plot"
   ]
  },
  {
   "cell_type": "code",
   "execution_count": null,
   "id": "separated-carbon",
   "metadata": {},
   "outputs": [],
   "source": [
    "def random_plot():\n",
    "    data = {\n",
    "        \"x\": np.random.randint(0, 100, size=(100,1)),\n",
    "        \"y\": np.random.randint(0, 100, size=(100,1)),\n",
    "    }\n",
    "    plot = hv.Points(data)\n",
    "    plot.opts(responsive=True, height=400, size=5)\n",
    "    return plot\n",
    "random_plot()"
   ]
  },
  {
   "cell_type": "markdown",
   "id": "deluxe-visiting",
   "metadata": {},
   "source": [
    "Let's compose this into an app with a button to update the plot"
   ]
  },
  {
   "cell_type": "code",
   "execution_count": null,
   "id": "convertible-nothing",
   "metadata": {},
   "outputs": [],
   "source": [
    "button = pn.widgets.Button(name=\"Update\", button_type=\"primary\")\n",
    "plot_panel = pn.pane.HoloViews(random_plot())\n",
    "app = pn.Column(\n",
    "    button, plot_panel\n",
    ")\n",
    "app"
   ]
  },
  {
   "cell_type": "markdown",
   "id": "checked-auckland",
   "metadata": {},
   "source": [
    "Let's define the action taken when you click the button."
   ]
  },
  {
   "cell_type": "code",
   "execution_count": null,
   "id": "union-annual",
   "metadata": {},
   "outputs": [],
   "source": [
    "def start_loading():\n",
    "    plot_panel.loading=True\n",
    "    button.loading=True\n",
    "    \n",
    "def stop_loading():\n",
    "    plot_panel.loading=False\n",
    "    button.loading=False\n",
    "    \n",
    "def update_plot(*events):\n",
    "    start_loading()\n",
    "    \n",
    "    time.sleep(2)\n",
    "    plot_panel.object = random_plot()\n",
    "    \n",
    "    stop_loading()\n",
    "\n",
    "button.on_click(update_plot)"
   ]
  },
  {
   "cell_type": "markdown",
   "id": "conventional-posting",
   "metadata": {},
   "source": [
    "Try clicking the *Update Button* above.\n",
    "\n",
    "You can also play around with the loading parameter of the button, plot or column using the checkboxes below."
   ]
  },
  {
   "cell_type": "code",
   "execution_count": null,
   "id": "acceptable-stylus",
   "metadata": {},
   "outputs": [],
   "source": [
    "pn.Row(\n",
    "    button.param.loading, plot_panel.param.loading, app.param.loading\n",
    ")"
   ]
  }
 ],
 "metadata": {
  "kernelspec": {
   "display_name": "Python 3",
   "language": "python",
   "name": "python3"
  },
  "language_info": {
   "codemirror_mode": {
    "name": "ipython",
    "version": 3
   },
   "file_extension": ".py",
   "mimetype": "text/x-python",
   "name": "python",
   "nbconvert_exporter": "python",
   "pygments_lexer": "ipython3",
   "version": "3.7.10"
  }
 },
 "nbformat": 4,
 "nbformat_minor": 5
}
