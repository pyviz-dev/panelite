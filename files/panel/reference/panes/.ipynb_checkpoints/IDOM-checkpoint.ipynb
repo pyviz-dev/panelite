{
 "cells": [
  {
   "cell_type": "code",
   "execution_count": null,
   "metadata": {},
   "outputs": [],
   "source": [
    "import idom\n",
    "\n",
    "import panel as pn\n",
    "\n",
    "pn.extension(\n",
    "    js_files={\n",
    "        'WebComponents': 'https://cdn.jsdelivr.net/npm/@webcomponents/webcomponentsjs@2.5.0/webcomponents-loader.js'\n",
    "    },\n",
    "    js_modules={\n",
    "        'mwc-snackbar': 'https://cdn.skypack.dev/@material/mwc-snackbar'\n",
    "    }\n",
    ")"
   ]
  },
  {
   "cell_type": "code",
   "execution_count": null,
   "metadata": {},
   "outputs": [],
   "source": [
    "class Snackbar(pn.reactive.ReactiveHTML):\n",
    "    \n",
    "    _template = \"\"\"\n",
    "    <mwc-snackbar id=\"snack\" labelText=\"Can't send photo. Retry in 5 seconds.\"></mwc-snackbar>\n",
    "    \"\"\"\n",
    "    \n",
    "Snackbar(height=800)"
   ]
  },
  {
   "cell_type": "code",
   "execution_count": null,
   "metadata": {},
   "outputs": [],
   "source": [
    "from ae5_tools.api  import AEAdminSession, AEUserSession"
   ]
  },
  {
   "cell_type": "code",
   "execution_count": null,
   "metadata": {},
   "outputs": [],
   "source": [
    "user_session = AEUserSession('pyviz.demo.anaconda.com', 'anaconda-enterprise', 's7cCsU5xaxbdU3C')\n",
    "\n"
   ]
  },
  {
   "cell_type": "code",
   "execution_count": null,
   "metadata": {},
   "outputs": [],
   "source": [
    "user_session.deployment_list('id=a2-cfe9b537649f47389ccda1700cb4fe3c', collaborators=True)"
   ]
  },
  {
   "cell_type": "markdown",
   "metadata": {},
   "source": [
    "session = AEAdminSession('pyviz.demo.anaconda.com', 'anaconda-enterprise', 'Au7hucTZ')"
   ]
  },
  {
   "cell_type": "code",
   "execution_count": null,
   "metadata": {},
   "outputs": [],
   "source": [
    "session.authorize()"
   ]
  },
  {
   "cell_type": "code",
   "execution_count": null,
   "metadata": {},
   "outputs": [],
   "source": [
    "session."
   ]
  },
  {
   "cell_type": "code",
   "execution_count": null,
   "metadata": {},
   "outputs": [],
   "source": [
    "user_id = session.user_info('anaconda-enterprise', quiet=True)['id']"
   ]
  },
  {
   "cell_type": "code",
   "execution_count": null,
   "metadata": {},
   "outputs": [],
   "source": [
    "session."
   ]
  },
  {
   "cell_type": "code",
   "execution_count": null,
   "metadata": {},
   "outputs": [],
   "source": [
    "session.prefix"
   ]
  },
  {
   "cell_type": "code",
   "execution_count": null,
   "metadata": {},
   "outputs": [],
   "source": [
    "session.session.get('https://pyviz.demo.anaconda.com/auth/admin/realms/AnacondaPlatform/clients').content"
   ]
  },
  {
   "cell_type": "code",
   "execution_count": null,
   "metadata": {},
   "outputs": [],
   "source": [
    "user_id = session.user_info('rjordan', quiet=True)['id']"
   ]
  },
  {
   "cell_type": "code",
   "execution_count": null,
   "metadata": {},
   "outputs": [],
   "source": [
    "session._get(f'users/{user_id}/role-mappings')"
   ]
  },
  {
   "cell_type": "code",
   "execution_count": null,
   "metadata": {},
   "outputs": [],
   "source": [
    "user_id = '5325986a-007f-422f-b2bb-3c839e6bbddf'"
   ]
  },
  {
   "cell_type": "code",
   "execution_count": null,
   "metadata": {},
   "outputs": [],
   "source": [
    "session._get(f'users/{user_id}/groups')"
   ]
  },
  {
   "cell_type": "code",
   "execution_count": null,
   "metadata": {},
   "outputs": [],
   "source": [
    "session._get(f'users/{user_id}/groups')"
   ]
  },
  {
   "cell_type": "code",
   "execution_count": null,
   "metadata": {},
   "outputs": [],
   "source": [
    "user_id = 'a916e05f-23b1-4bd6-83ba-92444618c6e6'"
   ]
  },
  {
   "cell_type": "code",
   "execution_count": null,
   "metadata": {},
   "outputs": [],
   "source": [
    "session._get(f'users/{user_id}')"
   ]
  },
  {
   "cell_type": "code",
   "execution_count": null,
   "metadata": {},
   "outputs": [],
   "source": [
    "session._get('users//role-mappings/realm/available')"
   ]
  },
  {
   "cell_type": "code",
   "execution_count": null,
   "metadata": {},
   "outputs": [],
   "source": [
    "session.user_info('anaconda-enterprise')"
   ]
  },
  {
   "cell_type": "code",
   "execution_count": null,
   "metadata": {},
   "outputs": [],
   "source": [
    "session.user_list()"
   ]
  },
  {
   "cell_type": "code",
   "execution_count": null,
   "metadata": {},
   "outputs": [],
   "source": [
    "session.user_list(filter='username=philippjfr')"
   ]
  },
  {
   "cell_type": "code",
   "execution_count": null,
   "metadata": {},
   "outputs": [],
   "source": [
    "session.user_list(filter='username=anaconda-enterprise')"
   ]
  },
  {
   "cell_type": "code",
   "execution_count": null,
   "metadata": {},
   "outputs": [],
   "source": [
    "session.user_list()"
   ]
  },
  {
   "cell_type": "markdown",
   "metadata": {},
   "source": [
    "The ``IDOM`` pane renders any [IDOM component](http://idom-docs.herokuapp.com/) both in the notebook and in a deployed server. IDOM defines an API for defining and controlling interactive HTML components directly from Python. Note that in the notebook the IDOM support for loading external modules relies on Panel's Jupyter serverextension. To check if this is enabled you can run:\n",
    "\n",
    "    jupyter serverextension list\n",
    "    \n",
    "You should see:\n",
    "\n",
    "    panel.io.jupyter_server_extension  enabled\n",
    "    - Validating...\n",
    "      panel.io.jupyter_server_extension  OK\n",
    "\n",
    "If you don't see this but have installed panel you can manually enable the server extension with:\n",
    "\n",
    "    jupyter serverextension enable --sys-prefix panel.io.jupyter_server_extension\n",
    "    \n",
    "which will install it where your Python is installed or to place it in the Jupyter config in your home directory:\n",
    "\n",
    "    jupyter serverextension enable --py panel\n",
    "\n",
    "#### Parameters:\n",
    "\n",
    "For layout and styling related parameters see the [customization user guide](../../user_guide/Customization.ipynb).\n",
    "\n",
    "* **``object``** (object): The IDOM component being displayed\n",
    "\n",
    "##### Display\n",
    "\n",
    "* **``default_layout``** (pn.layout.Panel, default=Row): Layout to wrap the plot and widgets in\n",
    "\n",
    "___"
   ]
  },
  {
   "cell_type": "markdown",
   "metadata": {},
   "source": [
    "The `panel` function will automatically convert any ``idom.component`` into a displayable panel, while keeping all of its interactive features:"
   ]
  },
  {
   "cell_type": "code",
   "execution_count": null,
   "metadata": {},
   "outputs": [],
   "source": [
    "@idom.component\n",
    "def ClickCount():\n",
    "    count, set_count = idom.hooks.use_state(0)\n",
    "\n",
    "    return idom.html.button(\n",
    "        {\"onClick\": lambda event: set_count(count + 1)},\n",
    "        [f\"Click count: {count}\"],\n",
    "    )\n",
    "\n",
    "pn.pane.IDOM(ClickCount, width=300)"
   ]
  },
  {
   "cell_type": "markdown",
   "metadata": {},
   "source": [
    "This makes it possible to generate even complex interactive components directly from Python, e.g. here we will create a ToDo list:"
   ]
  },
  {
   "cell_type": "code",
   "execution_count": null,
   "metadata": {},
   "outputs": [],
   "source": [
    "@idom.component\n",
    "def Todo():\n",
    "    items, set_items = idom.hooks.use_state([])\n",
    "\n",
    "    async def add_new_task(event):\n",
    "        if event[\"key\"] == \"Enter\":\n",
    "            set_items(items + [event[\"value\"]])\n",
    "\n",
    "    tasks = []\n",
    "\n",
    "    for index, text in enumerate(items):\n",
    "\n",
    "        async def remove_task(event, index=index):\n",
    "            set_items(items[:index] + items[index + 1 :])\n",
    "\n",
    "        task_text = idom.html.td(idom.html.p(text))\n",
    "        delete_button = idom.html.td({\"onClick\": remove_task}, idom.html.button([\"x\"]))\n",
    "        tasks.append(idom.html.tr(task_text, delete_button))\n",
    "\n",
    "    task_input = idom.html.input({\"onKeyDown\": add_new_task})\n",
    "    task_table = idom.html.table(tasks)\n",
    "\n",
    "    return idom.html.div(task_input, task_table)\n",
    "\n",
    "pn.pane.IDOM(Todo)"
   ]
  },
  {
   "cell_type": "markdown",
   "metadata": {},
   "source": [
    "If you have a live server backing your session, whether that is a notebook server or a Bokeh/Panel server deployment you can also use external Javascript components which will be compiled before first use. See the [idom documentation](https://idom-docs.herokuapp.com/docs/javascript-components.html) for more details on using external components. Note that to ensure that the JS modules are installed in the correct place you should use `pn.pane.IDOM.install` rather than simply using `idom.install`:"
   ]
  },
  {
   "cell_type": "code",
   "execution_count": null,
   "metadata": {},
   "outputs": [],
   "source": [
    "victory = pn.pane.IDOM.install(\"victory\", fallback=\"loading...\")\n",
    "\n",
    "victory_com = idom.component(\n",
    "    lambda: victory.VictoryBar({\"style\": {\"parent\": {\"width\": \"500px\"}}}),\n",
    ")\n",
    "\n",
    "pn.pane.IDOM(victory_com)"
   ]
  },
  {
   "cell_type": "markdown",
   "metadata": {},
   "source": [
    "In order to work with Panel components seamlessly the `IDOM` pane also provides a `use_param` method which allows us to use the current parameter value much like we would when using `pn.depends`:"
   ]
  },
  {
   "cell_type": "code",
   "execution_count": null,
   "metadata": {},
   "outputs": [],
   "source": [
    "aw = pn.widgets.IntSlider(name='a', start=0, end=20, value=1)\n",
    "bw = pn.widgets.IntSlider(name='b', start=0, end=20, value=1)\n",
    "\n",
    "@idom.component\n",
    "def view():\n",
    "    a = pn.pane.IDOM.use_param(aw)\n",
    "    b = pn.pane.IDOM.use_param(bw.param.value) # equivalent to passing in the widget\n",
    "    return idom.html.div({}, f'{a}+{b}={a+b}')\n",
    "\n",
    "pn.Row(aw, bw, view)"
   ]
  }
 ],
 "metadata": {
  "kernelspec": {
   "display_name": "Python 3",
   "language": "python",
   "name": "python3"
  },
  "language_info": {
   "codemirror_mode": {
    "name": "ipython",
    "version": 3
   },
   "file_extension": ".py",
   "mimetype": "text/x-python",
   "name": "python",
   "nbconvert_exporter": "python",
   "pygments_lexer": "ipython3",
   "version": "3.8.8"
  },
  "widgets": {
   "application/vnd.jupyter.widget-state+json": {
    "state": {},
    "version_major": 2,
    "version_minor": 0
   }
  }
 },
 "nbformat": 4,
 "nbformat_minor": 4
}
