{
 "cells": [
  {
   "cell_type": "code",
   "execution_count": null,
   "metadata": {},
   "outputs": [],
   "source": [
    "import param\n",
    "import pandas as pd\n",
    "import panel as pn"
   ]
  },
  {
   "cell_type": "markdown",
   "metadata": {},
   "source": [
    "You can use the `WebComponent` to quickly **plugin webcomponents or Javascript libraries** not already supported in Panel. \n",
    "\n",
    "So if you are not satisfied with the look and feel of the existing Panel widgets then use the `WebComponent` to plug in your favourite set of widgets. Or if the `DataFrame` pane or widget is not enough for your use case plugin an alternative data table.\n",
    "\n",
    "For an introduction to *web components* see [Web Components: the secret ingredient helping Power the web](https://www.youtube.com/watch?v=YBwgkr_Sbx0).\n",
    "\n",
    "<a href=\"https://www.youtube.com/watch?v=YBwgkr_Sbx0\" target=\"blank_\"><img src=\"https://i.ytimg.com/vi/YBwgkr_Sbx0/hqdefault.jpg\"></img></a>\n",
    "\n",
    "Please note that picking and using a web component library can be challenging as the **web component tools, frameworks and standard is rapidly evolving**. The newest and best implemented web components will be easiest to use. The `WebComponent` it self is a also a new feature in Panel (Q2 2020). So we need your help to identify bugs and improvements, for the time being the component is marked as **experimental**.\n",
    "\n",
    "Parameters\n",
    "----------\n",
    "\n",
    "You can use the `WebComponent` by instantiating an instance or inheriting from it.\n",
    "\n",
    "- `html`: The web component html tag.\n",
    "    - For example `<mwc-button></mwc-button>`. But can be more complex.\n",
    "- `attributes_to_watch`: A dictionary of (`html_attribute`, `python_parameter`) names\n",
    "    - The value of `python_parameter`  will be used to set the `html_attribute` on construction. \n",
    "    - The value of `python_parameter` and `html_attribute` will be kept in sync (*two way binding*).\n",
    "    - The value of `html_attribute` may not be None\n",
    "    - The value of `python_parameter` can be None.\n",
    "- `properties_to_watch`: A dictionary of (`js_property`, `python_parameter`) names\n",
    "    - The value of `python_parameter`  will be used to set the `js_property` on construction. \n",
    "    - The value of `python_parameter` and `js_property` will be kept in sync (*two way binding*).\n",
    "    - The value of `js_property` may not be None\n",
    "    - The value of `python_parameter` can be None.\n",
    "    - You can specify a nested `js_property` like `textInput.value` as key.\n",
    "- `parameters_to_watch`: Can be used to make the `html` parameter value dynamic. The list of `parameters_to_watch` will be watched and when changed the `html` will be updated. You need to implement the `_get_html_from_parameters_to_watch` to return the updated `html` value.\n",
    "- `events_to_watch`: A Dictionary of (`js_event`, `python_parameter_to_inc`) names.\n",
    "    - The `js_event` will be watched on the JavaScript side. When fired the javascript code will \n",
    "        - Increment the `python_parameter_to_inc` with `+1` if specified.\n",
    "        - check whether any `js_property` key in `properties_to_watch` has changed and if yes then it will be synced to the associated `python_parameter` value.\n",
    "- The `column_data_source` can be used to efficiently transfer columnar data to the javascript side.\n",
    "    - The `column_data_source_orient` is used to specify how the data should be input to the `column_data_source_load_function` below.\n",
    "         - For now `dict` and `records` are supported.\n",
    "         - See the `orient` parameter of the [pandas.to_dict](https://pandas.pydata.org/pandas-docs/stable/reference/api/pandas.DataFrame.to_dict.html) function for more info.\n",
    "- The `column_data_source_load_function` specifies the name of the js function or property that will load the data.\n",
    "- If the JavaScript WebComponent contains an `after_layout` function this is used to\n",
    "resize the JS WebComponent. See the `ECharts` web component in the Gallery for an example.\n",
    "\n",
    "You will propably have to experiment a bit in order to determine which javascript files to import and what combination of attributes, properties, events and/ or\n",
    "parameters to watch.\n",
    "___"
   ]
  },
  {
   "cell_type": "markdown",
   "metadata": {},
   "source": [
    "In order for WebComponents to function we need to load the corresponding Javascript modules. Below we load the MWC button and MWC slider components along with Material Icons CSS. Note that the webcomponent-loader.js is only required for older browsers which do not yet support Webcomponents natively."
   ]
  },
  {
   "cell_type": "code",
   "execution_count": null,
   "metadata": {},
   "outputs": [],
   "source": [
    "js_urls = {\n",
    "    'webcomponent_loader': 'https://cdnjs.cloudflare.com/ajax/libs/webcomponentsjs/2.4.3/webcomponents-loader.js',\n",
    "    'button': 'https://www.unpkg.com/@material/mwc-button?module',\n",
    "    'slider': 'https://www.unpkg.com/@material/mwc-slider?module',\n",
    "    'lit_table': 'https://unpkg.com/@doubletrade/lit-datatable@0.3.5/lit-datatable.js?module'\n",
    "}\n",
    "\n",
    "css_urls = [\n",
    "    'https://fonts.googleapis.com/css?family=Roboto:300,400,500',\n",
    "    'https://fonts.googleapis.com/css?family=Material+Icons&display=block'\n",
    "]\n",
    "\n",
    "css = \"\"\"\n",
    ":root {\n",
    "    --mdc-theme-primary: green;\n",
    "    --mdc-theme-secondary: purple;\n",
    "}\n",
    "\"\"\"\n",
    "\n",
    "pn.extension(js_files=js_urls, css_files=css_urls, raw_css=[css])"
   ]
  },
  {
   "cell_type": "markdown",
   "metadata": {},
   "source": [
    "### `attributes_to_watch`"
   ]
  },
  {
   "cell_type": "markdown",
   "metadata": {},
   "source": [
    "Lets create a `MWCButton`."
   ]
  },
  {
   "cell_type": "code",
   "execution_count": null,
   "metadata": {},
   "outputs": [],
   "source": [
    "MWC_ICONS = [None, \"accessibility\", \"code\", \"favorite\"] # For more icons see https://material.io/resources/icons/?style=baseline\n",
    "\n",
    "class MWCButton(pn.widgets.WebComponent):\n",
    "\n",
    "    html = param.String(\"<mwc-button></mwc-button\")\n",
    "\n",
    "    attributes_to_watch = param.Dict({\"label\": \"name\", \"icon\": \"icon\", \"raised\":\"raised\"})\n",
    "    \n",
    "    raised=param.Boolean(default=True)\n",
    "\n",
    "    icon=param.ObjectSelector(default=\"favorite\", objects=MWC_ICONS)\n",
    "    \n",
    "    height = param.Integer(default=30)\n",
    "\n",
    "mwc_button = MWCButton(name=\"Panel\")\n",
    "mwc_button"
   ]
  },
  {
   "cell_type": "markdown",
   "metadata": {},
   "source": [
    "Lets play with the attributes"
   ]
  },
  {
   "cell_type": "code",
   "execution_count": null,
   "metadata": {},
   "outputs": [],
   "source": [
    "pn.Param(\n",
    "    mwc_button, parameters=[\"name\", \"icon\", \"raised\", \"height\"]\n",
    ")"
   ]
  },
  {
   "cell_type": "markdown",
   "metadata": {},
   "source": [
    "For an example that use the `attributes_to_watch` bi-directionally take a look at the `perspective-viewer` example in the Gallery."
   ]
  },
  {
   "cell_type": "markdown",
   "metadata": {},
   "source": [
    "### `properties_to_watch`\n",
    "\n",
    "Lets create a `MWCSlider`"
   ]
  },
  {
   "cell_type": "code",
   "execution_count": null,
   "metadata": {},
   "outputs": [],
   "source": [
    "mwc_slider_html = \"\"\"\n",
    "<mwc-slider\n",
    "    step=\"5\"\n",
    "    pin\n",
    "    markers\n",
    "    max=\"50\"\n",
    "    value=\"10\">\n",
    "</mwc-slider>\n",
    "\"\"\"\n",
    "\n",
    "class MWCSlider(pn.widgets.WebComponent):\n",
    "    html = param.String(mwc_slider_html)\n",
    "    properties_to_watch = param.Dict({\"value\": \"value\"})\n",
    "    \n",
    "    value = param.Integer(default=10, bounds=(0,50), step=5)\n",
    "    height= param.Integer(default=50)\n",
    "\n",
    "    \n",
    "mwc_slider = MWCSlider(margin=(20,10,0,10))\n",
    "mwc_slider"
   ]
  },
  {
   "cell_type": "code",
   "execution_count": null,
   "metadata": {},
   "outputs": [],
   "source": [
    "pn.Param(mwc_slider, parameters=[\"value\"])"
   ]
  },
  {
   "cell_type": "markdown",
   "metadata": {},
   "source": [
    "### `events_to_Watch`\n",
    "\n",
    "Lets add `clicks` count to the `MWCButton`"
   ]
  },
  {
   "cell_type": "code",
   "execution_count": null,
   "metadata": {},
   "outputs": [],
   "source": [
    "MWC_ICONS = [None, \"accessibility\", \"code\", \"favorite\"] # For more icons see https://material.io/resources/icons/?style=baseline\n",
    "\n",
    "class MWCButton(pn.widgets.WebComponent):\n",
    "    html = param.String(\"<mwc-button></mwc-button\")\n",
    "    attributes_to_watch = param.Dict({\"label\": \"name\", \"icon\": \"icon\", \"raised\":\"raised\"})\n",
    "    \n",
    "    raised=param.Boolean(default=True)\n",
    "    icon=param.ObjectSelector(default=\"favorite\", objects=MWC_ICONS, allow_None=True)\n",
    "    \n",
    "    height = param.Integer(default=30)\n",
    "    \n",
    "    # NEW IN THIS EXAMPLE\n",
    "    events_to_watch = param.Dict({\"click\": \"clicks\"})\n",
    "    clicks = param.Integer()\n",
    "    \n",
    "    \n",
    "\n",
    "mwc_button = MWCButton(name=\"Panel\")\n",
    "mwc_button"
   ]
  },
  {
   "cell_type": "code",
   "execution_count": null,
   "metadata": {},
   "outputs": [],
   "source": [
    "pn.Param(\n",
    "    mwc_button, parameters=[\"name\", \"icon\", \"raised\", \"height\", \"clicks\"]\n",
    ")"
   ]
  },
  {
   "cell_type": "markdown",
   "metadata": {},
   "source": [
    "## Lit-DataTable Example"
   ]
  },
  {
   "cell_type": "markdown",
   "metadata": {},
   "source": [
    "In this example we will use the [lit-datatable](https://github.com/DoubleTrade/lit-datatable) which is a material design implementation of a data table."
   ]
  },
  {
   "cell_type": "markdown",
   "metadata": {},
   "source": [
    "### `properties_to_watch`"
   ]
  },
  {
   "cell_type": "markdown",
   "metadata": {},
   "source": [
    "Above we used the `html` attributes `data` and `conf`. So we can build a version of `LitDataTable` based on `attributes_to_watch`.\n",
    "\n",
    "But the the `data` and `conf` `html` attributes also corresponds to `data` and `conf` properties on the `js` object. It is not always the case for web components that there is a 1-1 correspondance though.\n",
    "\n",
    "Lets build the `LitDataTable` based on `properties_to_watch` to illustrate this."
   ]
  },
  {
   "cell_type": "code",
   "execution_count": null,
   "metadata": {},
   "outputs": [],
   "source": [
    "class LitDataTable1(pn.widgets.WebComponent):\n",
    "    html = param.String(\"<lit-datatable><lit-datatable>\")\n",
    "    properties_to_watch = param.Dict({\"data\": \"data\", \"conf\": \"conf\"})\n",
    "    \n",
    "    data = param.List()\n",
    "    conf = param.List()"
   ]
  },
  {
   "cell_type": "code",
   "execution_count": null,
   "metadata": {},
   "outputs": [],
   "source": [
    "data = [\n",
    "  { \"fruit\": \"apple\", \"color\": \"green\", \"weight\": \"100gr\" },\n",
    "  { \"fruit\": \"banana\", \"color\": \"yellow\", \"weight\": \"140gr\" }\n",
    "]\n",
    "conf = [\n",
    "  { \"property\": \"fruit\", \"header\": \"Fruit\", \"hidden\": False },\n",
    "  { \"property\": \"color\", \"header\": \"Color\", \"hidden\": False },\n",
    "  { \"property\": \"weight\", \"header\": \"Weight\", \"hidden\": False }\n",
    "]\n",
    "\n",
    "lit_data_table1 = LitDataTable1(conf=conf, data=data, height=150)\n",
    "lit_data_table1"
   ]
  },
  {
   "cell_type": "markdown",
   "metadata": {},
   "source": [
    "### `column_data_source`"
   ]
  },
  {
   "cell_type": "code",
   "execution_count": 2,
   "metadata": {},
   "outputs": [
    {
     "data": {
      "text/plain": [
       "1"
      ]
     },
     "execution_count": 2,
     "metadata": {},
     "output_type": "execute_result"
    }
   ],
   "source": [
    "1"
   ]
  },
  {
   "cell_type": "markdown",
   "metadata": {},
   "source": [
    "If we wanted to transfer a `DataFrame` and/ or large amounts of data to the `lit-datatable` we would create version of `LitDataTable` using `column-data_source`. Let's do that."
   ]
  },
  {
   "cell_type": "code",
   "execution_count": null,
   "metadata": {},
   "outputs": [],
   "source": [
    "class LitDataTable(pn.widgets.WebComponent):\n",
    "    html = param.String(\"<lit-datatable><lit-datatable>\")\n",
    "    properties_to_watch = param.Dict({\"conf\": \"conf\"})\n",
    " \n",
    "    conf = param.List()\n",
    "    \n",
    "    column_data_source_orient = param.String(\"records\")\n",
    "    column_data_source_load_function = param.String(\"data\")"
   ]
  },
  {
   "cell_type": "code",
   "execution_count": null,
   "metadata": {},
   "outputs": [],
   "source": [
    "import pandas as pd\n",
    "from bokeh.models import ColumnDataSource\n",
    "\n",
    "dataframe = pd.DataFrame(data)\n",
    "\n",
    "column_data_source = ColumnDataSource(dataframe)\n",
    "\n",
    "lit_data_table = LitDataTable(conf=conf, column_data_source=column_data_source, height=150)\n",
    "lit_data_table"
   ]
  },
  {
   "cell_type": "markdown",
   "metadata": {},
   "source": [
    "Lets a replace the data and see that it updates"
   ]
  },
  {
   "cell_type": "code",
   "execution_count": null,
   "metadata": {},
   "outputs": [],
   "source": [
    "new_data = [\n",
    "    { \"fruit\": \"apple\", \"color\": \"green\", \"weight\": \"100gr\" },\n",
    "    { \"fruit\": \"banana\", \"color\": \"yellow\", \"weight\": \"140gr\" },\n",
    "    { \"fruit\": \"pineapple\", \"color\": \"yellow\", \"weight\": \"1000gr\" },\n",
    "]\n",
    "new_conf = [\n",
    "  { \"property\": \"fruit\", \"header\": \"Fruit (name)\", \"hidden\": False },\n",
    "  { \"property\": \"color\", \"header\": \"Color\", \"hidden\": False },\n",
    "  { \"property\": \"weight\", \"header\": \"Weight (g)\", \"hidden\": False }\n",
    "]\n",
    "new_dataframe = pd.DataFrame(new_data)\n",
    "\n",
    "lit_data_table.column_data_source.data = ColumnDataSource.from_df(new_dataframe)\n",
    "lit_data_table.height = 200\n",
    "lit_data_table.conf = new_conf"
   ]
  },
  {
   "cell_type": "markdown",
   "metadata": {},
   "source": [
    "## Web Component Libraries\n",
    "\n",
    "You can find web components at\n",
    "\n",
    "- [Awesome Lit Element components](https://github.com/web-padawan/awesome-lit-html#components)\n",
    "- [webcomponents.org](https://www.webcomponents.org/)\n",
    "- [npm](https://www.npmjs.com/)\n",
    "\n",
    "Some example libraries are\n",
    "\n",
    "- [Amber](https://amber.bitrock.it/components/overview/)\n",
    "- [Material](https://github.com/material-components/material-components-web-components#readme), [Demo](https://mwc-demos.glitch.me/demos/)\n",
    "- [Microsoft Graph Toolkit](https://github.com/microsoftgraph/microsoft-graph-toolkit)\n",
    "- [SAP UI5](https://github.com/SAP/ui5-webcomponents), [Demo](https://sap.github.io/ui5-webcomponents/playground)\n",
    "- [Smart Elements](https://www.webcomponents.org/element/@smarthtmlelements/smart-bootstrap)"
   ]
  },
  {
   "cell_type": "markdown",
   "metadata": {},
   "source": [
    "### Prebuilt libraries from unpkg.com\n",
    "\n",
    "If you find a web component library on [npm](https://npmjs.com) you can find the corresponding precombiled library on [unpkg](https://unpkg.com) for use with Panel.\n",
    "\n",
    "For example if you find the `wired-button` at [https://www.npmjs.com/package/wired-button](https://www.npmjs.com/package/wired-button) then you can browse the precompiled files at [https://www.unpkg.com/browse/wired-button/](https://www.unpkg.com/browse/wired-button/) to locate the relevant precombiled file at [https://www.unpkg.com/wired-button@2.0.0/lib/wired-button.js](https://www.unpkg.com/wired-button@2.0.0/lib/wired-button.js)."
   ]
  },
  {
   "cell_type": "markdown",
   "metadata": {},
   "source": [
    "## References\n",
    "\n",
    "- [Build an app with WebComponents in 9 minutes](https://www.youtube.com/watch?v=mTNdTcwK3MM)\n",
    "- [How to use Web Components in a JavaScript project](https://www.youtube.com/watch?v=88Sa-SlHRxk&t=63s)"
   ]
  }
 ],
 "metadata": {
  "kernelspec": {
   "display_name": "Python 3",
   "language": "python",
   "name": "python3"
  },
  "language_info": {
   "codemirror_mode": {
    "name": "ipython",
    "version": 3
   },
   "file_extension": ".py",
   "mimetype": "text/x-python",
   "name": "python",
   "nbconvert_exporter": "python",
   "pygments_lexer": "ipython3",
   "version": "3.7.5"
  },
  "widgets": {
   "application/vnd.jupyter.widget-state+json": {
    "state": {},
    "version_major": 2,
    "version_minor": 0
   }
  }
 },
 "nbformat": 4,
 "nbformat_minor": 4
}
