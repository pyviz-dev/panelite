{
 "cells": [
  {
   "cell_type": "code",
   "execution_count": null,
   "metadata": {},
   "outputs": [],
   "source": [
    "import panel as pn\n",
    "pn.extension()"
   ]
  },
  {
   "cell_type": "markdown",
   "metadata": {},
   "source": [
    "The ``VideoStream`` widget displays a video from a local stream (for example from a webcam) and allows accessing the streamed video data from Python.\n",
    "\n",
    "#### Parameters:\n",
    "\n",
    "For layout and styling related parameters see the [customization user guide](../../user_guide/Customization.ipynb).\n",
    "\n",
    "* **``paused``** (boolean): Whether the video stream is paused\n",
    "* **``snapshot``** (boolean): On change a snapshot of the current frame is generated\n",
    "* **``value``** (string): String representation of the current snapshot\n",
    "\n",
    "___"
   ]
  },
  {
   "cell_type": "code",
   "execution_count": null,
   "metadata": {},
   "outputs": [],
   "source": [
    "stream_vid = pn.widgets.VideoStream(height=480)\n",
    "stream_vid"
   ]
  },
  {
   "cell_type": "code",
   "execution_count": null,
   "metadata": {},
   "outputs": [],
   "source": [
    "stream_vid.snapshot = not stream_vid.snapshot"
   ]
  },
  {
   "cell_type": "code",
   "execution_count": null,
   "metadata": {},
   "outputs": [],
   "source": [
    "pn.pane.HTML('<img src=\"' + stream_vid.value + '\" />', height=480)"
   ]
  },
  {
   "cell_type": "markdown",
   "metadata": {},
   "source": [
    "We can synchronize the widget with a custom parameterized class to take screenshots at regular time steps"
   ]
  },
  {
   "cell_type": "code",
   "execution_count": null,
   "metadata": {},
   "outputs": [],
   "source": [
    "import param\n",
    "class VideoSnap(param.Parameterized):\n",
    "    screenshot = param.String()\n",
    "    paused = param.Boolean(default=False)\n",
    "    \n",
    "    def __init__(self, **params):\n",
    "        super(VideoSnap,self).__init__(**params)\n",
    "        self._video = pn.widgets.VideoStream(width=640, height=480)\n",
    "        self._video.paused = self.paused\n",
    "        self._video.link(self, value='screenshot')\n",
    "        \n",
    "    @param.depends('screenshot', watch=True)\n",
    "    def display_screenshot(self):\n",
    "        return pn.pane.HTML('<img src=\"' + self.screenshot + '\" />')\n",
    "    \n",
    "    def panel(self):\n",
    "        return pn.Row(self._video, self.display_screenshot)\n",
    "    \n",
    "    def take_screenshot(self):\n",
    "        self._video.snapshot = not self._video.snapshot\n",
    "    \n",
    "    @param.depends('paused', watch=True)\n",
    "    def on_pause(self):\n",
    "        self._video.paused = self.paused\n",
    "\n",
    "vid = VideoSnap()\n",
    "pan_vid = vid.panel()\n",
    "pan_vid.add_periodic_callback(vid.take_screenshot, 100)\n",
    "pan_vid"
   ]
  },
  {
   "cell_type": "code",
   "execution_count": null,
   "metadata": {},
   "outputs": [],
   "source": [
    "vid.paused = True"
   ]
  },
  {
   "cell_type": "code",
   "execution_count": null,
   "metadata": {},
   "outputs": [],
   "source": []
  }
 ],
 "metadata": {
  "kernelspec": {
   "display_name": "Python 3",
   "language": "python",
   "name": "python3"
  },
  "language_info": {
   "codemirror_mode": {
    "name": "ipython",
    "version": 3
   },
   "file_extension": ".py",
   "mimetype": "text/x-python",
   "name": "python",
   "nbconvert_exporter": "python",
   "pygments_lexer": "ipython3",
   "version": "3.6.8"
  }
 },
 "nbformat": 4,
 "nbformat_minor": 2
}
