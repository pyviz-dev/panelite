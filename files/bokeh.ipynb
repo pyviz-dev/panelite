{
 "cells": [
  {
   "cell_type": "markdown",
   "id": "f1234a30-a987-407c-a5d8-106cfa5bb504",
   "metadata": {},
   "source": [
    "### Installation"
   ]
  },
  {
   "cell_type": "code",
   "execution_count": null,
   "id": "e8c7ec70-1288-4ba4-9520-ba17b0c9cbcc",
   "metadata": {},
   "outputs": [],
   "source": [
    "import piplite\n",
    "\n",
    "await piplite.install(['bokeh', 'jupyter_bokeh'])"
   ]
  },
  {
   "cell_type": "markdown",
   "id": "d9bcf210-c5ca-4b6f-a539-43ea69c63175",
   "metadata": {},
   "source": [
    "### Setup"
   ]
  },
  {
   "cell_type": "code",
   "execution_count": null,
   "id": "ec5efd07-2a77-4ab1-8c1b-8723a3ec3ea0",
   "metadata": {},
   "outputs": [],
   "source": [
    "import bokeh\n",
    "import jupyter_bokeh\n",
    "\n",
    "bokeh.io.output_notebook()"
   ]
  },
  {
   "cell_type": "markdown",
   "id": "77157e59-2fdd-477d-b272-9f3917a7446c",
   "metadata": {},
   "source": [
    "### Example"
   ]
  },
  {
   "cell_type": "code",
   "execution_count": null,
   "id": "22878065-93b9-4080-b0c3-1e407f051ee6",
   "metadata": {},
   "outputs": [],
   "source": [
    "from bokeh.models import Div, Slider, Row\n",
    "\n",
    "slider = Slider(start=0, end=5, step=0.5, value=0.5)\n",
    "div = Div(text=f'Slider value is {slider.value}')\n",
    "\n",
    "def update_div(attr, old, new):\n",
    "    div.text=f'Slider value is {new}'\n",
    "\n",
    "slider.on_change('value', update_div)\n",
    "\n",
    "layout = Row(children=[slider, div])\n",
    "\n",
    "jupyter_bokeh.BokehModel(layout)"
   ]
  }
 ],
 "metadata": {
  "kernelspec": {
   "display_name": "Python 3 (ipykernel)",
   "language": "python",
   "name": "python3"
  },
  "language_info": {
   "codemirror_mode": {
    "name": "ipython",
    "version": 3
   },
   "file_extension": ".py",
   "mimetype": "text/x-python",
   "name": "python",
   "nbconvert_exporter": "python",
   "pygments_lexer": "ipython3",
   "version": "3.9.7"
  },
  "widgets": {
   "application/vnd.jupyter.widget-state+json": {
    "state": {},
    "version_major": 2,
    "version_minor": 0
   }
  }
 },
 "nbformat": 4,
 "nbformat_minor": 5
}
