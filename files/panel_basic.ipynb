{
 "cells": [
  {
   "cell_type": "markdown",
   "id": "e114cf4c-4f0e-4a46-9bf3-6032a347f0e0",
   "metadata": {},
   "source": [
    "### Installation"
   ]
  },
  {
   "cell_type": "code",
   "execution_count": null,
   "id": "eae8b5a3-b53e-4048-9f5f-dc88618dd657",
   "metadata": {},
   "outputs": [],
   "source": [
    "import piplite\n",
    "\n",
    "await piplite.install(['bokeh', 'jupyter_bokeh', 'panel==0.13.0a45'])"
   ]
  },
  {
   "cell_type": "markdown",
   "id": "e05b2c9d-624c-4233-a473-8c47bb6587f4",
   "metadata": {},
   "source": [
    "### Setup"
   ]
  },
  {
   "cell_type": "code",
   "execution_count": null,
   "id": "c529592e-daf4-499a-b6c2-ff072288c2ed",
   "metadata": {},
   "outputs": [],
   "source": [
    "import panel as pn\n",
    "\n",
    "pn.extension()"
   ]
  },
  {
   "cell_type": "markdown",
   "id": "66a76de3-3b54-4ba1-8afd-c1b3adbfbc11",
   "metadata": {},
   "source": [
    "### Example"
   ]
  },
  {
   "cell_type": "code",
   "execution_count": null,
   "id": "904fb2eb-90fa-44e9-8ef5-eae06e363b84",
   "metadata": {},
   "outputs": [],
   "source": [
    "slider = pn.widgets.FloatSlider()\n",
    "\n",
    "def slider_value(value):\n",
    "    return f'Slider value is {value}'\n",
    "\n",
    "pn.Row(slider, pn.bind(slider_value, slider))"
   ]
  }
 ],
 "metadata": {
  "kernelspec": {
   "display_name": "Python 3 (ipykernel)",
   "language": "python",
   "name": "python3"
  },
  "language_info": {
   "codemirror_mode": {
    "name": "ipython",
    "version": 3
   },
   "file_extension": ".py",
   "mimetype": "text/x-python",
   "name": "python",
   "nbconvert_exporter": "python",
   "pygments_lexer": "ipython3",
   "version": "3.9.7"
  },
  "widgets": {
   "application/vnd.jupyter.widget-state+json": {
    "state": {},
    "version_major": 2,
    "version_minor": 0
   }
  }
 },
 "nbformat": 4,
 "nbformat_minor": 5
}
